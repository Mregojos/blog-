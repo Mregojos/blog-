{
 "cells": [
  {
   "cell_type": "markdown",
   "id": "17e6a1ac-cdad-413a-a1ec-90866a3408ef",
   "metadata": {},
   "source": [
    "# Matt Cloud Tech Site"
   ]
  },
  {
   "cell_type": "markdown",
   "id": "26b37f8d-b184-45bc-a74d-92621f616190",
   "metadata": {},
   "source": [
    "## Install mkdocs-material and create new mkdocs"
   ]
  },
  {
   "cell_type": "raw",
   "id": "58c28d1e-c015-470f-abd0-f04c92e007a6",
   "metadata": {},
   "source": [
    "# Install mkdocs-material\n",
    "pip install mkdocs-material -q\n",
    "\n",
    "# Create a new mkdocs\n",
    "mkdocs new <NAME>\n",
    "cd <NAME>\n",
    "# In GCP create a new firewall with 0.0.0.0/0 and TCP:8000\n",
    "mkdocs serve -a 0.0.0.0:8000"
   ]
  },
  {
   "cell_type": "code",
   "execution_count": null,
   "id": "b19f9235-b466-41e9-860d-77bf41b3ea62",
   "metadata": {},
   "outputs": [],
   "source": [
    " "
   ]
  }
 ],
 "metadata": {
  "environment": {
   "kernel": "python3",
   "name": "tf2-cpu.2-11.m112",
   "type": "gcloud",
   "uri": "gcr.io/deeplearning-platform-release/tf2-cpu.2-11:m112"
  },
  "kernelspec": {
   "display_name": "Python 3",
   "language": "python",
   "name": "python3"
  },
  "language_info": {
   "codemirror_mode": {
    "name": "ipython",
    "version": 3
   },
   "file_extension": ".py",
   "mimetype": "text/x-python",
   "name": "python",
   "nbconvert_exporter": "python",
   "pygments_lexer": "ipython3",
   "version": "3.10.12"
  }
 },
 "nbformat": 4,
 "nbformat_minor": 5
}
