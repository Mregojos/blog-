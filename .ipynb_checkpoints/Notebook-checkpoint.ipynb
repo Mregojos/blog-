{
 "cells": [
  {
   "cell_type": "markdown",
   "id": "17e6a1ac-cdad-413a-a1ec-90866a3408ef",
   "metadata": {},
   "source": [
    "# Matt Cloud Tech Site"
   ]
  },
  {
   "cell_type": "markdown",
   "id": "26b37f8d-b184-45bc-a74d-92621f616190",
   "metadata": {},
   "source": [
    "## Install mkdocs-material and create new mkdocs"
   ]
  },
  {
   "cell_type": "raw",
   "id": "58c28d1e-c015-470f-abd0-f04c92e007a6",
   "metadata": {},
   "source": [
    "# Install mkdocs-material\n",
    "pip install mkdocs-material -q\n",
    "\n",
    "# Create a new mkdocs\n",
    "mkdocs new <NAME>\n",
    "cd <NAME>\n",
    "# Build\n",
    "# In GCP create a new firewall with 0.0.0.0/0 and TCP:8000\n",
    "# Serve\n",
    "mkdocs serve -a 0.0.0.0:8000\n",
    "# Build\n",
    "mkdocs build\n",
    "# Build with specify LOCATION\n",
    "mkdocs build -a <LOCATION>"
   ]
  },
  {
   "cell_type": "markdown",
   "id": "4986295b-045f-4a30-abba-2868ae2ec26b",
   "metadata": {},
   "source": [
    "## Mkdocs"
   ]
  },
  {
   "cell_type": "code",
   "execution_count": 1,
   "id": "856b22f2-0b39-461d-8ff0-1caf3eb0d9a1",
   "metadata": {},
   "outputs": [
    {
     "name": "stdout",
     "output_type": "stream",
     "text": [
      "/home/jupyter/blog-/mattcloudtech\n"
     ]
    }
   ],
   "source": [
    "# Change directoy\n",
    "cd mattcloudtech"
   ]
  },
  {
   "cell_type": "code",
   "execution_count": 2,
   "id": "fdf2304b-1b67-4d0c-a0f7-342e8ffa9dcd",
   "metadata": {},
   "outputs": [
    {
     "name": "stdout",
     "output_type": "stream",
     "text": [
      "Overwriting mkdocs.yml\n"
     ]
    }
   ],
   "source": [
    "%%writefile mkdocs.yml\n",
    "site_name: Matt Cloud Tech"
   ]
  },
  {
   "cell_type": "code",
   "execution_count": 3,
   "id": "849e520e-90aa-4edd-a37f-0348299bfcfb",
   "metadata": {},
   "outputs": [
    {
     "name": "stdout",
     "output_type": "stream",
     "text": [
      "/home/jupyter/blog-/mattcloudtech/docs\n"
     ]
    }
   ],
   "source": [
    "cd docs"
   ]
  },
  {
   "cell_type": "code",
   "execution_count": 4,
   "id": "e7b3c648-233b-4315-a625-7c255ac96a27",
   "metadata": {},
   "outputs": [],
   "source": [
    "mkdir Project Blog"
   ]
  },
  {
   "cell_type": "code",
   "execution_count": 9,
   "id": "1c1b7775-4475-4bbd-b73b-25b4c6954f1c",
   "metadata": {},
   "outputs": [],
   "source": [
    "!touch project_1.md && mv project_1.md Project\n",
    "!touch blog_1.md && mv blog_1.md Blog"
   ]
  },
  {
   "cell_type": "code",
   "execution_count": 12,
   "id": "af6dfe87-35ce-4626-a4ee-606141974771",
   "metadata": {},
   "outputs": [],
   "source": [
    "!touch index.md"
   ]
  },
  {
   "cell_type": "code",
   "execution_count": 10,
   "id": "f0026381-7841-4bd8-bdaf-41f8f2cb08d9",
   "metadata": {},
   "outputs": [
    {
     "name": "stdout",
     "output_type": "stream",
     "text": [
      "Writing mkdocs.yml\n"
     ]
    }
   ],
   "source": [
    "%%writefile mkdocs.yml\n",
    "site_name: Matt Cloud Tech\n",
    "\n",
    "nav:\n",
    "    - index.md\n",
    "    - Project:\n",
    "        - project_1.md\n",
    "    - Blog:\n",
    "        - blog_1.md\n",
    "\n",
    "theme: material"
   ]
  },
  {
   "cell_type": "markdown",
   "id": "7cd93ce5-e24b-4234-80e7-fa79305b9833",
   "metadata": {},
   "source": [
    "## Mkdocs Material\n",
    "\n",
    "Reference: squidfunk.github.io/mkdocs-material"
   ]
  },
  {
   "cell_type": "code",
   "execution_count": null,
   "id": "7158808b-b4a8-4c52-8e22-250072d16019",
   "metadata": {},
   "outputs": [],
   "source": []
  }
 ],
 "metadata": {
  "environment": {
   "kernel": "python3",
   "name": "tf2-cpu.2-11.m112",
   "type": "gcloud",
   "uri": "gcr.io/deeplearning-platform-release/tf2-cpu.2-11:m112"
  },
  "kernelspec": {
   "display_name": "Python 3",
   "language": "python",
   "name": "python3"
  },
  "language_info": {
   "codemirror_mode": {
    "name": "ipython",
    "version": 3
   },
   "file_extension": ".py",
   "mimetype": "text/x-python",
   "name": "python",
   "nbconvert_exporter": "python",
   "pygments_lexer": "ipython3",
   "version": "3.10.12"
  }
 },
 "nbformat": 4,
 "nbformat_minor": 5
}
